{
 "cells": [
  {
   "cell_type": "markdown",
   "id": "43170e0f",
   "metadata": {
    "papermill": {
     "duration": 0.045828,
     "end_time": "2021-08-19T13:53:20.241862",
     "exception": false,
     "start_time": "2021-08-19T13:53:20.196034",
     "status": "completed"
    },
    "tags": []
   },
   "source": [
    "# Import Datasets"
   ]
  },
  {
   "cell_type": "markdown",
   "id": "d9d50ae4",
   "metadata": {
    "papermill": {
     "duration": 0.04446,
     "end_time": "2021-08-19T13:53:20.329623",
     "exception": false,
     "start_time": "2021-08-19T13:53:20.285163",
     "status": "completed"
    },
    "tags": []
   },
   "source": [
    "Import required pandas and numpy libraries."
   ]
  },
  {
   "cell_type": "code",
   "execution_count": 1,
   "id": "73f2dbc4",
   "metadata": {
    "execution": {
     "iopub.execute_input": "2021-08-19T13:53:20.411959Z",
     "iopub.status.busy": "2021-08-19T13:53:20.411289Z",
     "iopub.status.idle": "2021-08-19T13:53:20.430983Z",
     "shell.execute_reply": "2021-08-19T13:53:20.430091Z",
     "shell.execute_reply.started": "2021-08-19T12:13:27.677369Z"
    },
    "papermill": {
     "duration": 0.068131,
     "end_time": "2021-08-19T13:53:20.431216",
     "exception": false,
     "start_time": "2021-08-19T13:53:20.363085",
     "status": "completed"
    },
    "tags": []
   },
   "outputs": [
    {
     "name": "stdout",
     "output_type": "stream",
     "text": [
      "/kaggle/input/seattle/calendar.csv\n",
      "/kaggle/input/seattle/listings.csv\n",
      "/kaggle/input/seattle/reviews.csv\n"
     ]
    }
   ],
   "source": [
    "#import all required libraries and more\n",
    "import numpy as np # linear algebra\n",
    "import pandas as pd # data processing, CSV file I/O (e.g. pd.read_csv)\n",
    "import re\n",
    "import os\n",
    "for dirname, _, filenames in os.walk('/kaggle/input'):\n",
    "    for filename in filenames:\n",
    "        print(os.path.join(dirname, filename))"
   ]
  },
  {
   "cell_type": "markdown",
   "id": "d9b28c2b",
   "metadata": {
    "papermill": {
     "duration": 0.031613,
     "end_time": "2021-08-19T13:53:20.497962",
     "exception": false,
     "start_time": "2021-08-19T13:53:20.466349",
     "status": "completed"
    },
    "tags": []
   },
   "source": [
    "Import the datasets into relative pandas variables."
   ]
  },
  {
   "cell_type": "code",
   "execution_count": 2,
   "id": "f9e6cf92",
   "metadata": {
    "execution": {
     "iopub.execute_input": "2021-08-19T13:53:20.569388Z",
     "iopub.status.busy": "2021-08-19T13:53:20.568711Z",
     "iopub.status.idle": "2021-08-19T13:53:23.558973Z",
     "shell.execute_reply": "2021-08-19T13:53:23.558072Z",
     "shell.execute_reply.started": "2021-08-19T12:13:27.696115Z"
    },
    "papermill": {
     "duration": 3.028641,
     "end_time": "2021-08-19T13:53:23.559198",
     "exception": false,
     "start_time": "2021-08-19T13:53:20.530557",
     "status": "completed"
    },
    "tags": []
   },
   "outputs": [],
   "source": [
    "#read the calendar.csv file to pandas dataframe named 'df_calendar'\n",
    "df_calendar = pd.read_csv('../input/seattle/calendar.csv')\n",
    "\n",
    "#read the listings.csv file to pandas dataframe named 'df_listings'\n",
    "df_listings = pd.read_csv('../input/seattle/listings.csv')\n",
    "\n",
    "#read the reviews.csv file to pandas dataframe named 'df_reviews'\n",
    "df_reviews = pd.read_csv('../input/seattle/reviews.csv')"
   ]
  },
  {
   "cell_type": "code",
   "execution_count": 3,
   "id": "d7d3b91e",
   "metadata": {
    "execution": {
     "iopub.execute_input": "2021-08-19T13:53:23.637643Z",
     "iopub.status.busy": "2021-08-19T13:53:23.636903Z",
     "iopub.status.idle": "2021-08-19T13:53:23.655062Z",
     "shell.execute_reply": "2021-08-19T13:53:23.655567Z",
     "shell.execute_reply.started": "2021-08-19T12:13:30.117376Z"
    },
    "papermill": {
     "duration": 0.061183,
     "end_time": "2021-08-19T13:53:23.655740",
     "exception": false,
     "start_time": "2021-08-19T13:53:23.594557",
     "status": "completed"
    },
    "tags": []
   },
   "outputs": [
    {
     "data": {
      "text/html": [
       "<div>\n",
       "<style scoped>\n",
       "    .dataframe tbody tr th:only-of-type {\n",
       "        vertical-align: middle;\n",
       "    }\n",
       "\n",
       "    .dataframe tbody tr th {\n",
       "        vertical-align: top;\n",
       "    }\n",
       "\n",
       "    .dataframe thead th {\n",
       "        text-align: right;\n",
       "    }\n",
       "</style>\n",
       "<table border=\"1\" class=\"dataframe\">\n",
       "  <thead>\n",
       "    <tr style=\"text-align: right;\">\n",
       "      <th></th>\n",
       "      <th>listing_id</th>\n",
       "      <th>date</th>\n",
       "      <th>available</th>\n",
       "      <th>price</th>\n",
       "    </tr>\n",
       "  </thead>\n",
       "  <tbody>\n",
       "    <tr>\n",
       "      <th>0</th>\n",
       "      <td>241032</td>\n",
       "      <td>2016-01-04</td>\n",
       "      <td>t</td>\n",
       "      <td>$85.00</td>\n",
       "    </tr>\n",
       "    <tr>\n",
       "      <th>1</th>\n",
       "      <td>241032</td>\n",
       "      <td>2016-01-05</td>\n",
       "      <td>t</td>\n",
       "      <td>$85.00</td>\n",
       "    </tr>\n",
       "    <tr>\n",
       "      <th>2</th>\n",
       "      <td>241032</td>\n",
       "      <td>2016-01-06</td>\n",
       "      <td>f</td>\n",
       "      <td>NaN</td>\n",
       "    </tr>\n",
       "    <tr>\n",
       "      <th>3</th>\n",
       "      <td>241032</td>\n",
       "      <td>2016-01-07</td>\n",
       "      <td>f</td>\n",
       "      <td>NaN</td>\n",
       "    </tr>\n",
       "    <tr>\n",
       "      <th>4</th>\n",
       "      <td>241032</td>\n",
       "      <td>2016-01-08</td>\n",
       "      <td>f</td>\n",
       "      <td>NaN</td>\n",
       "    </tr>\n",
       "  </tbody>\n",
       "</table>\n",
       "</div>"
      ],
      "text/plain": [
       "   listing_id        date available   price\n",
       "0      241032  2016-01-04         t  $85.00\n",
       "1      241032  2016-01-05         t  $85.00\n",
       "2      241032  2016-01-06         f     NaN\n",
       "3      241032  2016-01-07         f     NaN\n",
       "4      241032  2016-01-08         f     NaN"
      ]
     },
     "execution_count": 3,
     "metadata": {},
     "output_type": "execute_result"
    }
   ],
   "source": [
    "#check out the first five rows of the recently defined datasets to gauge what is inside each file and what can be useful\n",
    "df_calendar.head()"
   ]
  },
  {
   "cell_type": "code",
   "execution_count": 4,
   "id": "b97f8379",
   "metadata": {
    "execution": {
     "iopub.execute_input": "2021-08-19T13:53:23.726166Z",
     "iopub.status.busy": "2021-08-19T13:53:23.725504Z",
     "iopub.status.idle": "2021-08-19T13:53:23.757859Z",
     "shell.execute_reply": "2021-08-19T13:53:23.758340Z",
     "shell.execute_reply.started": "2021-08-19T12:13:30.145046Z"
    },
    "papermill": {
     "duration": 0.06917,
     "end_time": "2021-08-19T13:53:23.758549",
     "exception": false,
     "start_time": "2021-08-19T13:53:23.689379",
     "status": "completed"
    },
    "tags": []
   },
   "outputs": [
    {
     "data": {
      "text/html": [
       "<div>\n",
       "<style scoped>\n",
       "    .dataframe tbody tr th:only-of-type {\n",
       "        vertical-align: middle;\n",
       "    }\n",
       "\n",
       "    .dataframe tbody tr th {\n",
       "        vertical-align: top;\n",
       "    }\n",
       "\n",
       "    .dataframe thead th {\n",
       "        text-align: right;\n",
       "    }\n",
       "</style>\n",
       "<table border=\"1\" class=\"dataframe\">\n",
       "  <thead>\n",
       "    <tr style=\"text-align: right;\">\n",
       "      <th></th>\n",
       "      <th>id</th>\n",
       "      <th>listing_url</th>\n",
       "      <th>scrape_id</th>\n",
       "      <th>last_scraped</th>\n",
       "      <th>name</th>\n",
       "      <th>summary</th>\n",
       "      <th>space</th>\n",
       "      <th>description</th>\n",
       "      <th>experiences_offered</th>\n",
       "      <th>neighborhood_overview</th>\n",
       "      <th>...</th>\n",
       "      <th>review_scores_value</th>\n",
       "      <th>requires_license</th>\n",
       "      <th>license</th>\n",
       "      <th>jurisdiction_names</th>\n",
       "      <th>instant_bookable</th>\n",
       "      <th>cancellation_policy</th>\n",
       "      <th>require_guest_profile_picture</th>\n",
       "      <th>require_guest_phone_verification</th>\n",
       "      <th>calculated_host_listings_count</th>\n",
       "      <th>reviews_per_month</th>\n",
       "    </tr>\n",
       "  </thead>\n",
       "  <tbody>\n",
       "    <tr>\n",
       "      <th>0</th>\n",
       "      <td>241032</td>\n",
       "      <td>https://www.airbnb.com/rooms/241032</td>\n",
       "      <td>20160104002432</td>\n",
       "      <td>2016-01-04</td>\n",
       "      <td>Stylish Queen Anne Apartment</td>\n",
       "      <td>NaN</td>\n",
       "      <td>Make your self at home in this charming one-be...</td>\n",
       "      <td>Make your self at home in this charming one-be...</td>\n",
       "      <td>none</td>\n",
       "      <td>NaN</td>\n",
       "      <td>...</td>\n",
       "      <td>10.0</td>\n",
       "      <td>f</td>\n",
       "      <td>NaN</td>\n",
       "      <td>WASHINGTON</td>\n",
       "      <td>f</td>\n",
       "      <td>moderate</td>\n",
       "      <td>f</td>\n",
       "      <td>f</td>\n",
       "      <td>2</td>\n",
       "      <td>4.07</td>\n",
       "    </tr>\n",
       "    <tr>\n",
       "      <th>1</th>\n",
       "      <td>953595</td>\n",
       "      <td>https://www.airbnb.com/rooms/953595</td>\n",
       "      <td>20160104002432</td>\n",
       "      <td>2016-01-04</td>\n",
       "      <td>Bright &amp; Airy Queen Anne Apartment</td>\n",
       "      <td>Chemically sensitive? We've removed the irrita...</td>\n",
       "      <td>Beautiful, hypoallergenic apartment in an extr...</td>\n",
       "      <td>Chemically sensitive? We've removed the irrita...</td>\n",
       "      <td>none</td>\n",
       "      <td>Queen Anne is a wonderful, truly functional vi...</td>\n",
       "      <td>...</td>\n",
       "      <td>10.0</td>\n",
       "      <td>f</td>\n",
       "      <td>NaN</td>\n",
       "      <td>WASHINGTON</td>\n",
       "      <td>f</td>\n",
       "      <td>strict</td>\n",
       "      <td>t</td>\n",
       "      <td>t</td>\n",
       "      <td>6</td>\n",
       "      <td>1.48</td>\n",
       "    </tr>\n",
       "    <tr>\n",
       "      <th>2</th>\n",
       "      <td>3308979</td>\n",
       "      <td>https://www.airbnb.com/rooms/3308979</td>\n",
       "      <td>20160104002432</td>\n",
       "      <td>2016-01-04</td>\n",
       "      <td>New Modern House-Amazing water view</td>\n",
       "      <td>New modern house built in 2013.  Spectacular s...</td>\n",
       "      <td>Our house is modern, light and fresh with a wa...</td>\n",
       "      <td>New modern house built in 2013.  Spectacular s...</td>\n",
       "      <td>none</td>\n",
       "      <td>Upper Queen Anne is a charming neighborhood fu...</td>\n",
       "      <td>...</td>\n",
       "      <td>10.0</td>\n",
       "      <td>f</td>\n",
       "      <td>NaN</td>\n",
       "      <td>WASHINGTON</td>\n",
       "      <td>f</td>\n",
       "      <td>strict</td>\n",
       "      <td>f</td>\n",
       "      <td>f</td>\n",
       "      <td>2</td>\n",
       "      <td>1.15</td>\n",
       "    </tr>\n",
       "    <tr>\n",
       "      <th>3</th>\n",
       "      <td>7421966</td>\n",
       "      <td>https://www.airbnb.com/rooms/7421966</td>\n",
       "      <td>20160104002432</td>\n",
       "      <td>2016-01-04</td>\n",
       "      <td>Queen Anne Chateau</td>\n",
       "      <td>A charming apartment that sits atop Queen Anne...</td>\n",
       "      <td>NaN</td>\n",
       "      <td>A charming apartment that sits atop Queen Anne...</td>\n",
       "      <td>none</td>\n",
       "      <td>NaN</td>\n",
       "      <td>...</td>\n",
       "      <td>NaN</td>\n",
       "      <td>f</td>\n",
       "      <td>NaN</td>\n",
       "      <td>WASHINGTON</td>\n",
       "      <td>f</td>\n",
       "      <td>flexible</td>\n",
       "      <td>f</td>\n",
       "      <td>f</td>\n",
       "      <td>1</td>\n",
       "      <td>NaN</td>\n",
       "    </tr>\n",
       "    <tr>\n",
       "      <th>4</th>\n",
       "      <td>278830</td>\n",
       "      <td>https://www.airbnb.com/rooms/278830</td>\n",
       "      <td>20160104002432</td>\n",
       "      <td>2016-01-04</td>\n",
       "      <td>Charming craftsman 3 bdm house</td>\n",
       "      <td>Cozy family craftman house in beautiful neighb...</td>\n",
       "      <td>Cozy family craftman house in beautiful neighb...</td>\n",
       "      <td>Cozy family craftman house in beautiful neighb...</td>\n",
       "      <td>none</td>\n",
       "      <td>We are in the beautiful neighborhood of Queen ...</td>\n",
       "      <td>...</td>\n",
       "      <td>9.0</td>\n",
       "      <td>f</td>\n",
       "      <td>NaN</td>\n",
       "      <td>WASHINGTON</td>\n",
       "      <td>f</td>\n",
       "      <td>strict</td>\n",
       "      <td>f</td>\n",
       "      <td>f</td>\n",
       "      <td>1</td>\n",
       "      <td>0.89</td>\n",
       "    </tr>\n",
       "  </tbody>\n",
       "</table>\n",
       "<p>5 rows × 92 columns</p>\n",
       "</div>"
      ],
      "text/plain": [
       "        id                           listing_url       scrape_id last_scraped  \\\n",
       "0   241032   https://www.airbnb.com/rooms/241032  20160104002432   2016-01-04   \n",
       "1   953595   https://www.airbnb.com/rooms/953595  20160104002432   2016-01-04   \n",
       "2  3308979  https://www.airbnb.com/rooms/3308979  20160104002432   2016-01-04   \n",
       "3  7421966  https://www.airbnb.com/rooms/7421966  20160104002432   2016-01-04   \n",
       "4   278830   https://www.airbnb.com/rooms/278830  20160104002432   2016-01-04   \n",
       "\n",
       "                                  name  \\\n",
       "0         Stylish Queen Anne Apartment   \n",
       "1   Bright & Airy Queen Anne Apartment   \n",
       "2  New Modern House-Amazing water view   \n",
       "3                   Queen Anne Chateau   \n",
       "4       Charming craftsman 3 bdm house   \n",
       "\n",
       "                                             summary  \\\n",
       "0                                                NaN   \n",
       "1  Chemically sensitive? We've removed the irrita...   \n",
       "2  New modern house built in 2013.  Spectacular s...   \n",
       "3  A charming apartment that sits atop Queen Anne...   \n",
       "4  Cozy family craftman house in beautiful neighb...   \n",
       "\n",
       "                                               space  \\\n",
       "0  Make your self at home in this charming one-be...   \n",
       "1  Beautiful, hypoallergenic apartment in an extr...   \n",
       "2  Our house is modern, light and fresh with a wa...   \n",
       "3                                                NaN   \n",
       "4  Cozy family craftman house in beautiful neighb...   \n",
       "\n",
       "                                         description experiences_offered  \\\n",
       "0  Make your self at home in this charming one-be...                none   \n",
       "1  Chemically sensitive? We've removed the irrita...                none   \n",
       "2  New modern house built in 2013.  Spectacular s...                none   \n",
       "3  A charming apartment that sits atop Queen Anne...                none   \n",
       "4  Cozy family craftman house in beautiful neighb...                none   \n",
       "\n",
       "                               neighborhood_overview  ... review_scores_value  \\\n",
       "0                                                NaN  ...                10.0   \n",
       "1  Queen Anne is a wonderful, truly functional vi...  ...                10.0   \n",
       "2  Upper Queen Anne is a charming neighborhood fu...  ...                10.0   \n",
       "3                                                NaN  ...                 NaN   \n",
       "4  We are in the beautiful neighborhood of Queen ...  ...                 9.0   \n",
       "\n",
       "  requires_license license jurisdiction_names instant_bookable  \\\n",
       "0                f     NaN         WASHINGTON                f   \n",
       "1                f     NaN         WASHINGTON                f   \n",
       "2                f     NaN         WASHINGTON                f   \n",
       "3                f     NaN         WASHINGTON                f   \n",
       "4                f     NaN         WASHINGTON                f   \n",
       "\n",
       "  cancellation_policy  require_guest_profile_picture  \\\n",
       "0            moderate                              f   \n",
       "1              strict                              t   \n",
       "2              strict                              f   \n",
       "3            flexible                              f   \n",
       "4              strict                              f   \n",
       "\n",
       "  require_guest_phone_verification calculated_host_listings_count  \\\n",
       "0                                f                              2   \n",
       "1                                t                              6   \n",
       "2                                f                              2   \n",
       "3                                f                              1   \n",
       "4                                f                              1   \n",
       "\n",
       "  reviews_per_month  \n",
       "0              4.07  \n",
       "1              1.48  \n",
       "2              1.15  \n",
       "3               NaN  \n",
       "4              0.89  \n",
       "\n",
       "[5 rows x 92 columns]"
      ]
     },
     "execution_count": 4,
     "metadata": {},
     "output_type": "execute_result"
    }
   ],
   "source": [
    "df_listings.head()"
   ]
  },
  {
   "cell_type": "code",
   "execution_count": 5,
   "id": "27b4f4af",
   "metadata": {
    "execution": {
     "iopub.execute_input": "2021-08-19T13:53:23.831098Z",
     "iopub.status.busy": "2021-08-19T13:53:23.830440Z",
     "iopub.status.idle": "2021-08-19T13:53:23.842889Z",
     "shell.execute_reply": "2021-08-19T13:53:23.842227Z",
     "shell.execute_reply.started": "2021-08-19T12:13:30.178903Z"
    },
    "papermill": {
     "duration": 0.049071,
     "end_time": "2021-08-19T13:53:23.843032",
     "exception": false,
     "start_time": "2021-08-19T13:53:23.793961",
     "status": "completed"
    },
    "tags": []
   },
   "outputs": [
    {
     "data": {
      "text/html": [
       "<div>\n",
       "<style scoped>\n",
       "    .dataframe tbody tr th:only-of-type {\n",
       "        vertical-align: middle;\n",
       "    }\n",
       "\n",
       "    .dataframe tbody tr th {\n",
       "        vertical-align: top;\n",
       "    }\n",
       "\n",
       "    .dataframe thead th {\n",
       "        text-align: right;\n",
       "    }\n",
       "</style>\n",
       "<table border=\"1\" class=\"dataframe\">\n",
       "  <thead>\n",
       "    <tr style=\"text-align: right;\">\n",
       "      <th></th>\n",
       "      <th>listing_id</th>\n",
       "      <th>id</th>\n",
       "      <th>date</th>\n",
       "      <th>reviewer_id</th>\n",
       "      <th>reviewer_name</th>\n",
       "      <th>comments</th>\n",
       "    </tr>\n",
       "  </thead>\n",
       "  <tbody>\n",
       "    <tr>\n",
       "      <th>0</th>\n",
       "      <td>7202016</td>\n",
       "      <td>38917982</td>\n",
       "      <td>2015-07-19</td>\n",
       "      <td>28943674</td>\n",
       "      <td>Bianca</td>\n",
       "      <td>Cute and cozy place. Perfect location to every...</td>\n",
       "    </tr>\n",
       "    <tr>\n",
       "      <th>1</th>\n",
       "      <td>7202016</td>\n",
       "      <td>39087409</td>\n",
       "      <td>2015-07-20</td>\n",
       "      <td>32440555</td>\n",
       "      <td>Frank</td>\n",
       "      <td>Kelly has a great room in a very central locat...</td>\n",
       "    </tr>\n",
       "    <tr>\n",
       "      <th>2</th>\n",
       "      <td>7202016</td>\n",
       "      <td>39820030</td>\n",
       "      <td>2015-07-26</td>\n",
       "      <td>37722850</td>\n",
       "      <td>Ian</td>\n",
       "      <td>Very spacious apartment, and in a great neighb...</td>\n",
       "    </tr>\n",
       "    <tr>\n",
       "      <th>3</th>\n",
       "      <td>7202016</td>\n",
       "      <td>40813543</td>\n",
       "      <td>2015-08-02</td>\n",
       "      <td>33671805</td>\n",
       "      <td>George</td>\n",
       "      <td>Close to Seattle Center and all it has to offe...</td>\n",
       "    </tr>\n",
       "    <tr>\n",
       "      <th>4</th>\n",
       "      <td>7202016</td>\n",
       "      <td>41986501</td>\n",
       "      <td>2015-08-10</td>\n",
       "      <td>34959538</td>\n",
       "      <td>Ming</td>\n",
       "      <td>Kelly was a great host and very accommodating ...</td>\n",
       "    </tr>\n",
       "  </tbody>\n",
       "</table>\n",
       "</div>"
      ],
      "text/plain": [
       "   listing_id        id        date  reviewer_id reviewer_name  \\\n",
       "0     7202016  38917982  2015-07-19     28943674        Bianca   \n",
       "1     7202016  39087409  2015-07-20     32440555         Frank   \n",
       "2     7202016  39820030  2015-07-26     37722850           Ian   \n",
       "3     7202016  40813543  2015-08-02     33671805        George   \n",
       "4     7202016  41986501  2015-08-10     34959538          Ming   \n",
       "\n",
       "                                            comments  \n",
       "0  Cute and cozy place. Perfect location to every...  \n",
       "1  Kelly has a great room in a very central locat...  \n",
       "2  Very spacious apartment, and in a great neighb...  \n",
       "3  Close to Seattle Center and all it has to offe...  \n",
       "4  Kelly was a great host and very accommodating ...  "
      ]
     },
     "execution_count": 5,
     "metadata": {},
     "output_type": "execute_result"
    }
   ],
   "source": [
    "df_reviews.head()"
   ]
  },
  {
   "cell_type": "markdown",
   "id": "9f599c50",
   "metadata": {
    "papermill": {
     "duration": 0.033204,
     "end_time": "2021-08-19T13:53:23.911240",
     "exception": false,
     "start_time": "2021-08-19T13:53:23.878036",
     "status": "completed"
    },
    "tags": []
   },
   "source": [
    "-----------------------------------------------------------------------------------------------------------------------------------------------------"
   ]
  },
  {
   "cell_type": "markdown",
   "id": "fb800ab9",
   "metadata": {
    "papermill": {
     "duration": 0.037248,
     "end_time": "2021-08-19T13:53:23.983161",
     "exception": false,
     "start_time": "2021-08-19T13:53:23.945913",
     "status": "completed"
    },
    "tags": []
   },
   "source": [
    "# Clean Datasets"
   ]
  },
  {
   "cell_type": "markdown",
   "id": "a908ca1e",
   "metadata": {
    "papermill": {
     "duration": 0.034553,
     "end_time": "2021-08-19T13:53:24.051913",
     "exception": false,
     "start_time": "2021-08-19T13:53:24.017360",
     "status": "completed"
    },
    "tags": []
   },
   "source": [
    "**calendar.csv Cleansing**"
   ]
  },
  {
   "cell_type": "code",
   "execution_count": 6,
   "id": "c9e26ddc",
   "metadata": {
    "execution": {
     "iopub.execute_input": "2021-08-19T13:53:24.503602Z",
     "iopub.status.busy": "2021-08-19T13:53:24.502920Z",
     "iopub.status.idle": "2021-08-19T13:53:24.532023Z",
     "shell.execute_reply": "2021-08-19T13:53:24.531335Z",
     "shell.execute_reply.started": "2021-08-19T12:13:30.197839Z"
    },
    "papermill": {
     "duration": 0.444643,
     "end_time": "2021-08-19T13:53:24.532173",
     "exception": false,
     "start_time": "2021-08-19T13:53:24.087530",
     "status": "completed"
    },
    "tags": []
   },
   "outputs": [
    {
     "name": "stdout",
     "output_type": "stream",
     "text": [
      "<class 'pandas.core.frame.DataFrame'>\n",
      "RangeIndex: 1393570 entries, 0 to 1393569\n",
      "Data columns (total 4 columns):\n",
      " #   Column      Non-Null Count    Dtype \n",
      "---  ------      --------------    ----- \n",
      " 0   listing_id  1393570 non-null  int64 \n",
      " 1   date        1393570 non-null  object\n",
      " 2   available   1393570 non-null  object\n",
      " 3   price       934542 non-null   object\n",
      "dtypes: int64(1), object(3)\n",
      "memory usage: 42.5+ MB\n"
     ]
    }
   ],
   "source": [
    "#find the metadata of the 'df_calendar' dataset\n",
    "df_calendar.info()"
   ]
  },
  {
   "cell_type": "code",
   "execution_count": 7,
   "id": "d89b38c0",
   "metadata": {
    "execution": {
     "iopub.execute_input": "2021-08-19T13:53:24.984604Z",
     "iopub.status.busy": "2021-08-19T13:53:24.606738Z",
     "iopub.status.idle": "2021-08-19T13:53:24.999059Z",
     "shell.execute_reply": "2021-08-19T13:53:24.998522Z",
     "shell.execute_reply.started": "2021-08-19T12:13:30.602883Z"
    },
    "papermill": {
     "duration": 0.431405,
     "end_time": "2021-08-19T13:53:24.999204",
     "exception": false,
     "start_time": "2021-08-19T13:53:24.567799",
     "status": "completed"
    },
    "tags": []
   },
   "outputs": [
    {
     "data": {
      "text/plain": [
       "listing_id         0\n",
       "date               0\n",
       "available          0\n",
       "price         459028\n",
       "dtype: int64"
      ]
     },
     "execution_count": 7,
     "metadata": {},
     "output_type": "execute_result"
    }
   ],
   "source": [
    "#find the which of columns that have null values and how many and how many of them. \n",
    "df_calendar.isnull().sum()"
   ]
  },
  {
   "cell_type": "markdown",
   "id": "71e54dbf",
   "metadata": {
    "papermill": {
     "duration": 0.035283,
     "end_time": "2021-08-19T13:53:25.069834",
     "exception": false,
     "start_time": "2021-08-19T13:53:25.034551",
     "status": "completed"
    },
    "tags": []
   },
   "source": [
    "Convert the relevant column data to their proper data types.\n",
    "\n",
    "*This needs to do this since the keras deep learning model that is going to be used later, will only be looking at non-null values which are either integers or floats, since these values have to be entered through a set hidden layers which will perform mathematical operations on them. There will be multiple layers having multiple neurons.*"
   ]
  },
  {
   "cell_type": "code",
   "execution_count": 8,
   "id": "171c52fd",
   "metadata": {
    "execution": {
     "iopub.execute_input": "2021-08-19T13:53:25.148912Z",
     "iopub.status.busy": "2021-08-19T13:53:25.148107Z",
     "iopub.status.idle": "2021-08-19T13:53:27.011957Z",
     "shell.execute_reply": "2021-08-19T13:53:27.012514Z",
     "shell.execute_reply.started": "2021-08-19T12:13:30.990219Z"
    },
    "papermill": {
     "duration": 1.906398,
     "end_time": "2021-08-19T13:53:27.012704",
     "exception": false,
     "start_time": "2021-08-19T13:53:25.106306",
     "status": "completed"
    },
    "tags": []
   },
   "outputs": [],
   "source": [
    "df_calendar['listing_id'] = df_calendar['listing_id'].astype(str)"
   ]
  },
  {
   "cell_type": "code",
   "execution_count": 9,
   "id": "994ad79e",
   "metadata": {
    "execution": {
     "iopub.execute_input": "2021-08-19T13:53:27.201500Z",
     "iopub.status.busy": "2021-08-19T13:53:27.200626Z",
     "iopub.status.idle": "2021-08-19T13:53:29.668838Z",
     "shell.execute_reply": "2021-08-19T13:53:29.667994Z",
     "shell.execute_reply.started": "2021-08-19T12:13:32.810678Z"
    },
    "papermill": {
     "duration": 2.6193,
     "end_time": "2021-08-19T13:53:29.669003",
     "exception": false,
     "start_time": "2021-08-19T13:53:27.049703",
     "status": "completed"
    },
    "tags": []
   },
   "outputs": [],
   "source": [
    "df_calendar['price'].fillna(0, inplace=True)\n",
    "\n",
    "#defining this function here is useful since it will be used again for the same purpose, i.e. to clean listings.csv\n",
    "def remove_symbol(price):\n",
    "    \"\"\"remove the symbols ['$', ','] in price\"\"\"\n",
    "    if type(price) is str:\n",
    "        return re.sub(\"[\\$,]\",'',price)\n",
    "    return price\n",
    "\n",
    "df_calendar['price'] = df_calendar.price.apply(remove_symbol)\n",
    "df_calendar['price'] = df_calendar['price'].astype(float)"
   ]
  },
  {
   "cell_type": "markdown",
   "id": "1fefc690",
   "metadata": {
    "papermill": {
     "duration": 0.034796,
     "end_time": "2021-08-19T13:53:29.740933",
     "exception": false,
     "start_time": "2021-08-19T13:53:29.706137",
     "status": "completed"
    },
    "tags": []
   },
   "source": [
    "Check the updated data types."
   ]
  },
  {
   "cell_type": "code",
   "execution_count": 10,
   "id": "1e8da9d6",
   "metadata": {
    "execution": {
     "iopub.execute_input": "2021-08-19T13:53:30.084025Z",
     "iopub.status.busy": "2021-08-19T13:53:30.083330Z",
     "iopub.status.idle": "2021-08-19T13:53:30.242473Z",
     "shell.execute_reply": "2021-08-19T13:53:30.241904Z",
     "shell.execute_reply.started": "2021-08-19T12:13:35.331860Z"
    },
    "papermill": {
     "duration": 0.467471,
     "end_time": "2021-08-19T13:53:30.242632",
     "exception": false,
     "start_time": "2021-08-19T13:53:29.775161",
     "status": "completed"
    },
    "tags": []
   },
   "outputs": [
    {
     "name": "stdout",
     "output_type": "stream",
     "text": [
      "<class 'pandas.core.frame.DataFrame'>\n",
      "RangeIndex: 1393570 entries, 0 to 1393569\n",
      "Data columns (total 4 columns):\n",
      " #   Column      Non-Null Count    Dtype  \n",
      "---  ------      --------------    -----  \n",
      " 0   listing_id  1393570 non-null  object \n",
      " 1   date        1393570 non-null  object \n",
      " 2   available   1393570 non-null  object \n",
      " 3   price       1393570 non-null  float64\n",
      "dtypes: float64(1), object(3)\n",
      "memory usage: 42.5+ MB\n"
     ]
    }
   ],
   "source": [
    "df_calendar.info()"
   ]
  },
  {
   "cell_type": "markdown",
   "id": "c3e79fc9",
   "metadata": {
    "papermill": {
     "duration": 0.036679,
     "end_time": "2021-08-19T13:53:30.316363",
     "exception": false,
     "start_time": "2021-08-19T13:53:30.279684",
     "status": "completed"
    },
    "tags": []
   },
   "source": [
    "**listings.csv Cleansing**"
   ]
  },
  {
   "cell_type": "markdown",
   "id": "7e7e43a0",
   "metadata": {
    "papermill": {
     "duration": 0.03663,
     "end_time": "2021-08-19T13:53:30.389315",
     "exception": false,
     "start_time": "2021-08-19T13:53:30.352685",
     "status": "completed"
    },
    "tags": []
   },
   "source": [
    "*Basically repeating the same steps as cleaning 'df_calendar.*"
   ]
  },
  {
   "cell_type": "code",
   "execution_count": 11,
   "id": "2afd7a22",
   "metadata": {
    "execution": {
     "iopub.execute_input": "2021-08-19T13:53:30.496821Z",
     "iopub.status.busy": "2021-08-19T13:53:30.495677Z",
     "iopub.status.idle": "2021-08-19T13:53:30.519545Z",
     "shell.execute_reply": "2021-08-19T13:53:30.518955Z",
     "shell.execute_reply.started": "2021-08-19T12:13:35.754121Z"
    },
    "papermill": {
     "duration": 0.091488,
     "end_time": "2021-08-19T13:53:30.519689",
     "exception": false,
     "start_time": "2021-08-19T13:53:30.428201",
     "status": "completed"
    },
    "tags": []
   },
   "outputs": [
    {
     "name": "stdout",
     "output_type": "stream",
     "text": [
      "<class 'pandas.core.frame.DataFrame'>\n",
      "RangeIndex: 3818 entries, 0 to 3817\n",
      "Data columns (total 92 columns):\n",
      " #   Column                            Non-Null Count  Dtype  \n",
      "---  ------                            --------------  -----  \n",
      " 0   id                                3818 non-null   int64  \n",
      " 1   listing_url                       3818 non-null   object \n",
      " 2   scrape_id                         3818 non-null   int64  \n",
      " 3   last_scraped                      3818 non-null   object \n",
      " 4   name                              3818 non-null   object \n",
      " 5   summary                           3641 non-null   object \n",
      " 6   space                             3249 non-null   object \n",
      " 7   description                       3818 non-null   object \n",
      " 8   experiences_offered               3818 non-null   object \n",
      " 9   neighborhood_overview             2786 non-null   object \n",
      " 10  notes                             2212 non-null   object \n",
      " 11  transit                           2884 non-null   object \n",
      " 12  thumbnail_url                     3498 non-null   object \n",
      " 13  medium_url                        3498 non-null   object \n",
      " 14  picture_url                       3818 non-null   object \n",
      " 15  xl_picture_url                    3498 non-null   object \n",
      " 16  host_id                           3818 non-null   int64  \n",
      " 17  host_url                          3818 non-null   object \n",
      " 18  host_name                         3816 non-null   object \n",
      " 19  host_since                        3816 non-null   object \n",
      " 20  host_location                     3810 non-null   object \n",
      " 21  host_about                        2959 non-null   object \n",
      " 22  host_response_time                3295 non-null   object \n",
      " 23  host_response_rate                3295 non-null   object \n",
      " 24  host_acceptance_rate              3045 non-null   object \n",
      " 25  host_is_superhost                 3816 non-null   object \n",
      " 26  host_thumbnail_url                3816 non-null   object \n",
      " 27  host_picture_url                  3816 non-null   object \n",
      " 28  host_neighbourhood                3518 non-null   object \n",
      " 29  host_listings_count               3816 non-null   float64\n",
      " 30  host_total_listings_count         3816 non-null   float64\n",
      " 31  host_verifications                3818 non-null   object \n",
      " 32  host_has_profile_pic              3816 non-null   object \n",
      " 33  host_identity_verified            3816 non-null   object \n",
      " 34  street                            3818 non-null   object \n",
      " 35  neighbourhood                     3402 non-null   object \n",
      " 36  neighbourhood_cleansed            3818 non-null   object \n",
      " 37  neighbourhood_group_cleansed      3818 non-null   object \n",
      " 38  city                              3818 non-null   object \n",
      " 39  state                             3818 non-null   object \n",
      " 40  zipcode                           3811 non-null   object \n",
      " 41  market                            3818 non-null   object \n",
      " 42  smart_location                    3818 non-null   object \n",
      " 43  country_code                      3818 non-null   object \n",
      " 44  country                           3818 non-null   object \n",
      " 45  latitude                          3818 non-null   float64\n",
      " 46  longitude                         3818 non-null   float64\n",
      " 47  is_location_exact                 3818 non-null   object \n",
      " 48  property_type                     3817 non-null   object \n",
      " 49  room_type                         3818 non-null   object \n",
      " 50  accommodates                      3818 non-null   int64  \n",
      " 51  bathrooms                         3802 non-null   float64\n",
      " 52  bedrooms                          3812 non-null   float64\n",
      " 53  beds                              3817 non-null   float64\n",
      " 54  bed_type                          3818 non-null   object \n",
      " 55  amenities                         3818 non-null   object \n",
      " 56  square_feet                       97 non-null     float64\n",
      " 57  price                             3818 non-null   object \n",
      " 58  weekly_price                      2009 non-null   object \n",
      " 59  monthly_price                     1517 non-null   object \n",
      " 60  security_deposit                  1866 non-null   object \n",
      " 61  cleaning_fee                      2788 non-null   object \n",
      " 62  guests_included                   3818 non-null   int64  \n",
      " 63  extra_people                      3818 non-null   object \n",
      " 64  minimum_nights                    3818 non-null   int64  \n",
      " 65  maximum_nights                    3818 non-null   int64  \n",
      " 66  calendar_updated                  3818 non-null   object \n",
      " 67  has_availability                  3818 non-null   object \n",
      " 68  availability_30                   3818 non-null   int64  \n",
      " 69  availability_60                   3818 non-null   int64  \n",
      " 70  availability_90                   3818 non-null   int64  \n",
      " 71  availability_365                  3818 non-null   int64  \n",
      " 72  calendar_last_scraped             3818 non-null   object \n",
      " 73  number_of_reviews                 3818 non-null   int64  \n",
      " 74  first_review                      3191 non-null   object \n",
      " 75  last_review                       3191 non-null   object \n",
      " 76  review_scores_rating              3171 non-null   float64\n",
      " 77  review_scores_accuracy            3160 non-null   float64\n",
      " 78  review_scores_cleanliness         3165 non-null   float64\n",
      " 79  review_scores_checkin             3160 non-null   float64\n",
      " 80  review_scores_communication       3167 non-null   float64\n",
      " 81  review_scores_location            3163 non-null   float64\n",
      " 82  review_scores_value               3162 non-null   float64\n",
      " 83  requires_license                  3818 non-null   object \n",
      " 84  license                           0 non-null      float64\n",
      " 85  jurisdiction_names                3818 non-null   object \n",
      " 86  instant_bookable                  3818 non-null   object \n",
      " 87  cancellation_policy               3818 non-null   object \n",
      " 88  require_guest_profile_picture     3818 non-null   object \n",
      " 89  require_guest_phone_verification  3818 non-null   object \n",
      " 90  calculated_host_listings_count    3818 non-null   int64  \n",
      " 91  reviews_per_month                 3191 non-null   float64\n",
      "dtypes: float64(17), int64(13), object(62)\n",
      "memory usage: 2.7+ MB\n"
     ]
    }
   ],
   "source": [
    "df_listings.info()"
   ]
  },
  {
   "cell_type": "markdown",
   "id": "c4f4c0a7",
   "metadata": {
    "papermill": {
     "duration": 0.036574,
     "end_time": "2021-08-19T13:53:30.593539",
     "exception": false,
     "start_time": "2021-08-19T13:53:30.556965",
     "status": "completed"
    },
    "tags": []
   },
   "source": [
    "Choose the useful columns only, and store them in separate dataset.\n",
    "\n",
    "*Here, only a few columns are required which will be used in the prediction model. Therefore, these columns are copied onto a new dataframe, which will be worked upon rather than 'df_listings'.*"
   ]
  },
  {
   "cell_type": "code",
   "execution_count": 12,
   "id": "77000f84",
   "metadata": {
    "execution": {
     "iopub.execute_input": "2021-08-19T13:53:30.673769Z",
     "iopub.status.busy": "2021-08-19T13:53:30.672746Z",
     "iopub.status.idle": "2021-08-19T13:53:30.676357Z",
     "shell.execute_reply": "2021-08-19T13:53:30.675734Z",
     "shell.execute_reply.started": "2021-08-19T12:13:35.801275Z"
    },
    "papermill": {
     "duration": 0.045896,
     "end_time": "2021-08-19T13:53:30.676518",
     "exception": false,
     "start_time": "2021-08-19T13:53:30.630622",
     "status": "completed"
    },
    "tags": []
   },
   "outputs": [],
   "source": [
    "df_listings_new = df_listings[['id','accommodates','bathrooms','bedrooms','beds','price','extra_people','minimum_nights','review_scores_rating','instant_bookable']]"
   ]
  },
  {
   "cell_type": "markdown",
   "id": "00059f90",
   "metadata": {
    "papermill": {
     "duration": 0.035537,
     "end_time": "2021-08-19T13:53:30.749170",
     "exception": false,
     "start_time": "2021-08-19T13:53:30.713633",
     "status": "completed"
    },
    "tags": []
   },
   "source": [
    "Check updated info."
   ]
  },
  {
   "cell_type": "code",
   "execution_count": 13,
   "id": "b567acd4",
   "metadata": {
    "execution": {
     "iopub.execute_input": "2021-08-19T13:53:30.829154Z",
     "iopub.status.busy": "2021-08-19T13:53:30.827272Z",
     "iopub.status.idle": "2021-08-19T13:53:30.842081Z",
     "shell.execute_reply": "2021-08-19T13:53:30.842657Z",
     "shell.execute_reply.started": "2021-08-19T12:13:35.810623Z"
    },
    "papermill": {
     "duration": 0.058052,
     "end_time": "2021-08-19T13:53:30.842863",
     "exception": false,
     "start_time": "2021-08-19T13:53:30.784811",
     "status": "completed"
    },
    "tags": []
   },
   "outputs": [
    {
     "name": "stdout",
     "output_type": "stream",
     "text": [
      "<class 'pandas.core.frame.DataFrame'>\n",
      "RangeIndex: 3818 entries, 0 to 3817\n",
      "Data columns (total 10 columns):\n",
      " #   Column                Non-Null Count  Dtype  \n",
      "---  ------                --------------  -----  \n",
      " 0   id                    3818 non-null   int64  \n",
      " 1   accommodates          3818 non-null   int64  \n",
      " 2   bathrooms             3802 non-null   float64\n",
      " 3   bedrooms              3812 non-null   float64\n",
      " 4   beds                  3817 non-null   float64\n",
      " 5   price                 3818 non-null   object \n",
      " 6   extra_people          3818 non-null   object \n",
      " 7   minimum_nights        3818 non-null   int64  \n",
      " 8   review_scores_rating  3171 non-null   float64\n",
      " 9   instant_bookable      3818 non-null   object \n",
      "dtypes: float64(4), int64(3), object(3)\n",
      "memory usage: 298.4+ KB\n"
     ]
    }
   ],
   "source": [
    "df_listings_new.info()"
   ]
  },
  {
   "cell_type": "code",
   "execution_count": 14,
   "id": "ed68d8f5",
   "metadata": {
    "execution": {
     "iopub.execute_input": "2021-08-19T13:53:30.929005Z",
     "iopub.status.busy": "2021-08-19T13:53:30.928107Z",
     "iopub.status.idle": "2021-08-19T13:53:30.933221Z",
     "shell.execute_reply": "2021-08-19T13:53:30.932628Z",
     "shell.execute_reply.started": "2021-08-19T12:13:35.832702Z"
    },
    "papermill": {
     "duration": 0.053259,
     "end_time": "2021-08-19T13:53:30.933392",
     "exception": false,
     "start_time": "2021-08-19T13:53:30.880133",
     "status": "completed"
    },
    "tags": []
   },
   "outputs": [
    {
     "data": {
      "text/plain": [
       "id                        0\n",
       "accommodates              0\n",
       "bathrooms                16\n",
       "bedrooms                  6\n",
       "beds                      1\n",
       "price                     0\n",
       "extra_people              0\n",
       "minimum_nights            0\n",
       "review_scores_rating    647\n",
       "instant_bookable          0\n",
       "dtype: int64"
      ]
     },
     "execution_count": 14,
     "metadata": {},
     "output_type": "execute_result"
    }
   ],
   "source": [
    "df_listings_new.isnull().sum()"
   ]
  },
  {
   "cell_type": "markdown",
   "id": "82936092",
   "metadata": {
    "papermill": {
     "duration": 0.036455,
     "end_time": "2021-08-19T13:53:31.008887",
     "exception": false,
     "start_time": "2021-08-19T13:53:30.972432",
     "status": "completed"
    },
    "tags": []
   },
   "source": [
    "Remove the null values, along with changing the relative dattypes to either floats or integers, which can be easily used by the keras deep learning model."
   ]
  },
  {
   "cell_type": "code",
   "execution_count": 15,
   "id": "0d637330",
   "metadata": {
    "_kg_hide-output": false,
    "execution": {
     "iopub.execute_input": "2021-08-19T13:53:31.098039Z",
     "iopub.status.busy": "2021-08-19T13:53:31.097133Z",
     "iopub.status.idle": "2021-08-19T13:53:31.122587Z",
     "shell.execute_reply": "2021-08-19T13:53:31.121880Z",
     "shell.execute_reply.started": "2021-08-19T12:13:35.846168Z"
    },
    "papermill": {
     "duration": 0.07635,
     "end_time": "2021-08-19T13:53:31.122744",
     "exception": false,
     "start_time": "2021-08-19T13:53:31.046394",
     "status": "completed"
    },
    "tags": []
   },
   "outputs": [
    {
     "name": "stderr",
     "output_type": "stream",
     "text": [
      "/opt/conda/lib/python3.7/site-packages/ipykernel_launcher.py:1: SettingWithCopyWarning: \n",
      "A value is trying to be set on a copy of a slice from a DataFrame.\n",
      "Try using .loc[row_indexer,col_indexer] = value instead\n",
      "\n",
      "See the caveats in the documentation: https://pandas.pydata.org/pandas-docs/stable/user_guide/indexing.html#returning-a-view-versus-a-copy\n",
      "  \"\"\"Entry point for launching an IPython kernel.\n",
      "/opt/conda/lib/python3.7/site-packages/pandas/core/series.py:4469: SettingWithCopyWarning: \n",
      "A value is trying to be set on a copy of a slice from a DataFrame\n",
      "\n",
      "See the caveats in the documentation: https://pandas.pydata.org/pandas-docs/stable/user_guide/indexing.html#returning-a-view-versus-a-copy\n",
      "  downcast=downcast,\n",
      "/opt/conda/lib/python3.7/site-packages/ipykernel_launcher.py:5: SettingWithCopyWarning: \n",
      "A value is trying to be set on a copy of a slice from a DataFrame.\n",
      "Try using .loc[row_indexer,col_indexer] = value instead\n",
      "\n",
      "See the caveats in the documentation: https://pandas.pydata.org/pandas-docs/stable/user_guide/indexing.html#returning-a-view-versus-a-copy\n",
      "  \"\"\"\n",
      "/opt/conda/lib/python3.7/site-packages/ipykernel_launcher.py:7: SettingWithCopyWarning: \n",
      "A value is trying to be set on a copy of a slice from a DataFrame.\n",
      "Try using .loc[row_indexer,col_indexer] = value instead\n",
      "\n",
      "See the caveats in the documentation: https://pandas.pydata.org/pandas-docs/stable/user_guide/indexing.html#returning-a-view-versus-a-copy\n",
      "  import sys\n"
     ]
    }
   ],
   "source": [
    "df_listings_new['id'] = df_listings_new['id'].astype(str)\n",
    "\n",
    "df_listings_new['price'].fillna(0, inplace=True)\n",
    "\n",
    "df_listings_new['price'] = df_listings_new.price.apply(remove_symbol)\n",
    "\n",
    "df_listings_new['price'] = df_listings_new['price'].astype(float)\n",
    "\n",
    "df_listings_new['review_scores_rating'].fillna(0, inplace=True)\n",
    "df_listings_new['bathrooms'].fillna(0, inplace=True)\n",
    "df_listings_new['beds'].fillna(0, inplace=True)\n",
    "df_listings_new['price'].fillna(0, inplace=True)\n",
    "df_listings_new['bedrooms'].fillna(0, inplace=True)"
   ]
  },
  {
   "cell_type": "markdown",
   "id": "d3b63ea3",
   "metadata": {
    "papermill": {
     "duration": 0.037191,
     "end_time": "2021-08-19T13:53:31.198164",
     "exception": false,
     "start_time": "2021-08-19T13:53:31.160973",
     "status": "completed"
    },
    "tags": []
   },
   "source": [
    "Check the updated data types again."
   ]
  },
  {
   "cell_type": "code",
   "execution_count": 16,
   "id": "23c4aa4c",
   "metadata": {
    "execution": {
     "iopub.execute_input": "2021-08-19T13:53:31.302954Z",
     "iopub.status.busy": "2021-08-19T13:53:31.300773Z",
     "iopub.status.idle": "2021-08-19T13:53:31.323646Z",
     "shell.execute_reply": "2021-08-19T13:53:31.322861Z",
     "shell.execute_reply.started": "2021-08-19T12:13:35.886816Z"
    },
    "papermill": {
     "duration": 0.079761,
     "end_time": "2021-08-19T13:53:31.323820",
     "exception": false,
     "start_time": "2021-08-19T13:53:31.244059",
     "status": "completed"
    },
    "tags": []
   },
   "outputs": [
    {
     "name": "stdout",
     "output_type": "stream",
     "text": [
      "<class 'pandas.core.frame.DataFrame'>\n",
      "RangeIndex: 3818 entries, 0 to 3817\n",
      "Data columns (total 10 columns):\n",
      " #   Column                Non-Null Count  Dtype  \n",
      "---  ------                --------------  -----  \n",
      " 0   id                    3818 non-null   object \n",
      " 1   accommodates          3818 non-null   int64  \n",
      " 2   bathrooms             3818 non-null   float64\n",
      " 3   bedrooms              3818 non-null   float64\n",
      " 4   beds                  3818 non-null   float64\n",
      " 5   price                 3818 non-null   float64\n",
      " 6   extra_people          3818 non-null   object \n",
      " 7   minimum_nights        3818 non-null   int64  \n",
      " 8   review_scores_rating  3818 non-null   float64\n",
      " 9   instant_bookable      3818 non-null   object \n",
      "dtypes: float64(5), int64(2), object(3)\n",
      "memory usage: 298.4+ KB\n"
     ]
    }
   ],
   "source": [
    "df_listings_new.info()"
   ]
  },
  {
   "cell_type": "markdown",
   "id": "3071e632",
   "metadata": {
    "papermill": {
     "duration": 0.038157,
     "end_time": "2021-08-19T13:53:31.400383",
     "exception": false,
     "start_time": "2021-08-19T13:53:31.362226",
     "status": "completed"
    },
    "tags": []
   },
   "source": [
    "-----------------------------------------------------------------------------------------------------------------------------------------------------"
   ]
  },
  {
   "cell_type": "markdown",
   "id": "6931add8",
   "metadata": {
    "papermill": {
     "duration": 0.036252,
     "end_time": "2021-08-19T13:53:31.474671",
     "exception": false,
     "start_time": "2021-08-19T13:53:31.438419",
     "status": "completed"
    },
    "tags": []
   },
   "source": [
    "# Deep Learning"
   ]
  },
  {
   "cell_type": "markdown",
   "id": "41ff40fb",
   "metadata": {
    "papermill": {
     "duration": 0.038459,
     "end_time": "2021-08-19T13:53:31.550634",
     "exception": false,
     "start_time": "2021-08-19T13:53:31.512175",
     "status": "completed"
    },
    "tags": []
   },
   "source": [
    "Import all the required libraries for building the keras model and any future, additional work that needs to be done."
   ]
  },
  {
   "cell_type": "code",
   "execution_count": 17,
   "id": "2d4728c7",
   "metadata": {
    "execution": {
     "iopub.execute_input": "2021-08-19T13:53:31.632452Z",
     "iopub.status.busy": "2021-08-19T13:53:31.631653Z",
     "iopub.status.idle": "2021-08-19T13:53:38.742445Z",
     "shell.execute_reply": "2021-08-19T13:53:38.741900Z",
     "shell.execute_reply.started": "2021-08-19T12:13:35.904297Z"
    },
    "papermill": {
     "duration": 7.154888,
     "end_time": "2021-08-19T13:53:38.742660",
     "exception": false,
     "start_time": "2021-08-19T13:53:31.587772",
     "status": "completed"
    },
    "tags": []
   },
   "outputs": [],
   "source": [
    "from sklearn.model_selection import train_test_split\n",
    "from keras.models import Sequential\n",
    "from keras.layers import Dense\n",
    "from keras.callbacks import EarlyStopping, ModelCheckpoint\n",
    "import matplotlib.pyplot as plt\n",
    "from math import sqrt\n",
    "from sklearn.metrics import mean_squared_error"
   ]
  },
  {
   "cell_type": "markdown",
   "id": "fe989c5f",
   "metadata": {
    "papermill": {
     "duration": 0.037825,
     "end_time": "2021-08-19T13:53:38.817986",
     "exception": false,
     "start_time": "2021-08-19T13:53:38.780161",
     "status": "completed"
    },
    "tags": []
   },
   "source": [
    "Make 2 new datasets out of the 'df_listings_new' dataset. These will now finally be used by the keras model.\n",
    "\n",
    "'X' will contain the fields used to make the prediction, and 'y' will contain the target, i.e. the price of the listing."
   ]
  },
  {
   "cell_type": "code",
   "execution_count": 18,
   "id": "9e9a8701",
   "metadata": {
    "execution": {
     "iopub.execute_input": "2021-08-19T13:53:38.900713Z",
     "iopub.status.busy": "2021-08-19T13:53:38.900051Z",
     "iopub.status.idle": "2021-08-19T13:53:38.906090Z",
     "shell.execute_reply": "2021-08-19T13:53:38.905431Z",
     "shell.execute_reply.started": "2021-08-19T12:13:43.301862Z"
    },
    "papermill": {
     "duration": 0.050223,
     "end_time": "2021-08-19T13:53:38.906229",
     "exception": false,
     "start_time": "2021-08-19T13:53:38.856006",
     "status": "completed"
    },
    "tags": []
   },
   "outputs": [],
   "source": [
    "X = df_listings_new[['accommodates','bathrooms','bedrooms','beds','minimum_nights','review_scores_rating']]\n",
    "y = df_listings_new[['price']]"
   ]
  },
  {
   "cell_type": "markdown",
   "id": "6a473dcc",
   "metadata": {
    "papermill": {
     "duration": 0.037671,
     "end_time": "2021-08-19T13:53:38.981213",
     "exception": false,
     "start_time": "2021-08-19T13:53:38.943542",
     "status": "completed"
    },
    "tags": []
   },
   "source": [
    "Split the dataset into train and test, using the 'sklearn' library.\n",
    "\n",
    "The train dataset would be used to train the model on how to predict the price, whereas the test dataset will be used to test this model.\n",
    "\n",
    "*The 70-30 split is suggested for sample data like this by most experts and fellow deep learning coders, since it is a powerful way with ample of data to train the model, as well as enough to test it out wiht no new data.*"
   ]
  },
  {
   "cell_type": "code",
   "execution_count": 19,
   "id": "519db93b",
   "metadata": {
    "execution": {
     "iopub.execute_input": "2021-08-19T13:53:39.065986Z",
     "iopub.status.busy": "2021-08-19T13:53:39.064418Z",
     "iopub.status.idle": "2021-08-19T13:53:39.072636Z",
     "shell.execute_reply": "2021-08-19T13:53:39.071851Z",
     "shell.execute_reply.started": "2021-08-19T12:13:43.310375Z"
    },
    "papermill": {
     "duration": 0.052918,
     "end_time": "2021-08-19T13:53:39.072826",
     "exception": false,
     "start_time": "2021-08-19T13:53:39.019908",
     "status": "completed"
    },
    "tags": []
   },
   "outputs": [
    {
     "name": "stdout",
     "output_type": "stream",
     "text": [
      "(2672, 6)\n",
      "(1146, 6)\n",
      "(2672, 1)\n",
      "(1146, 1)\n"
     ]
    }
   ],
   "source": [
    "X_train, X_test, y_train, y_test = train_test_split(X, y, test_size=0.3, random_state=40)\n",
    "print(X_train.shape)\n",
    "print(X_test.shape)\n",
    "print(y_train.shape)\n",
    "print(y_test.shape)"
   ]
  },
  {
   "cell_type": "markdown",
   "id": "7e3a199e",
   "metadata": {
    "papermill": {
     "duration": 0.04004,
     "end_time": "2021-08-19T13:53:39.152883",
     "exception": false,
     "start_time": "2021-08-19T13:53:39.112843",
     "status": "completed"
    },
    "tags": []
   },
   "source": [
    "While creating the model, activation function - 'relu' is used. This is done because, relu, gives out the output of 0 if the input is negative and there is no change if its not negative. Thus, it is the perfect activation function for the purpose of predicting the price of something. The price of a service like airbnb's room rental cannot be negative and if we use most other functions like 'sigmoid', 'tanh, etc because they all give of output of somewhere between -1 to 1. This doesn't make sense in the case of prices."
   ]
  },
  {
   "cell_type": "code",
   "execution_count": 20,
   "id": "52f18c09",
   "metadata": {
    "execution": {
     "iopub.execute_input": "2021-08-19T13:53:39.237083Z",
     "iopub.status.busy": "2021-08-19T13:53:39.236414Z",
     "iopub.status.idle": "2021-08-19T13:53:39.353170Z",
     "shell.execute_reply": "2021-08-19T13:53:39.353654Z",
     "shell.execute_reply.started": "2021-08-19T12:13:43.333175Z"
    },
    "papermill": {
     "duration": 0.162037,
     "end_time": "2021-08-19T13:53:39.353838",
     "exception": false,
     "start_time": "2021-08-19T13:53:39.191801",
     "status": "completed"
    },
    "tags": []
   },
   "outputs": [
    {
     "name": "stdout",
     "output_type": "stream",
     "text": [
      "Model: \"sequential\"\n",
      "_________________________________________________________________\n",
      "Layer (type)                 Output Shape              Param #   \n",
      "=================================================================\n",
      "dense (Dense)                (None, 128)               896       \n",
      "_________________________________________________________________\n",
      "dense_1 (Dense)              (None, 64)                8256      \n",
      "_________________________________________________________________\n",
      "dense_2 (Dense)              (None, 32)                2080      \n",
      "_________________________________________________________________\n",
      "dense_3 (Dense)              (None, 1)                 33        \n",
      "=================================================================\n",
      "Total params: 11,265\n",
      "Trainable params: 11,265\n",
      "Non-trainable params: 0\n",
      "_________________________________________________________________\n"
     ]
    }
   ],
   "source": [
    "#creating a sequential model\n",
    "model = Sequential()\n",
    "\n",
    "#add a dense layer of 128 neurons, with relu as the activation function, along with that, the input_dim wil be set to 6, since there are 6 inital parameters as outputed in by the previous block of code.\n",
    "model.add(Dense(128, activation='relu', input_dim=6))\n",
    "\n",
    "#add 2 more hidden dense layers, first with 64 neurons and the next with 32 neurons, using relu activation\n",
    "model.add(Dense(64, activation='relu'))\n",
    "model.add(Dense(32, activation='relu'))\n",
    "          \n",
    "#add the output layer with 1 neuron, since our output is only the 'price'\n",
    "model.add(Dense(1))\n",
    "\n",
    "model.summary()"
   ]
  },
  {
   "cell_type": "markdown",
   "id": "03f1f814",
   "metadata": {
    "papermill": {
     "duration": 0.039509,
     "end_time": "2021-08-19T13:53:39.432913",
     "exception": false,
     "start_time": "2021-08-19T13:53:39.393404",
     "status": "completed"
    },
    "tags": []
   },
   "source": [
    "Compile the model."
   ]
  },
  {
   "cell_type": "code",
   "execution_count": 21,
   "id": "e6f97bd1",
   "metadata": {
    "execution": {
     "iopub.execute_input": "2021-08-19T13:53:39.526716Z",
     "iopub.status.busy": "2021-08-19T13:53:39.521271Z",
     "iopub.status.idle": "2021-08-19T13:53:47.564834Z",
     "shell.execute_reply": "2021-08-19T13:53:47.565385Z",
     "shell.execute_reply.started": "2021-08-19T12:13:43.459617Z"
    },
    "papermill": {
     "duration": 8.093185,
     "end_time": "2021-08-19T13:53:47.565633",
     "exception": false,
     "start_time": "2021-08-19T13:53:39.472448",
     "status": "completed"
    },
    "scrolled": true,
    "tags": []
   },
   "outputs": [
    {
     "name": "stdout",
     "output_type": "stream",
     "text": [
      "Epoch 1/50\n",
      "84/84 [==============================] - 1s 2ms/step - loss: 14826.4497 - mse: 14826.4497\n",
      "Epoch 2/50\n",
      "84/84 [==============================] - 0s 2ms/step - loss: 7534.0460 - mse: 7534.0460\n",
      "Epoch 3/50\n",
      "84/84 [==============================] - 0s 2ms/step - loss: 4699.3640 - mse: 4699.3640\n",
      "Epoch 4/50\n",
      "84/84 [==============================] - 0s 2ms/step - loss: 3848.9302 - mse: 3848.9302\n",
      "Epoch 5/50\n",
      "84/84 [==============================] - 0s 2ms/step - loss: 4346.5266 - mse: 4346.5266\n",
      "Epoch 6/50\n",
      "84/84 [==============================] - 0s 2ms/step - loss: 3978.8965 - mse: 3978.8965\n",
      "Epoch 7/50\n",
      "84/84 [==============================] - 0s 2ms/step - loss: 4795.6959 - mse: 4795.6959\n",
      "Epoch 8/50\n",
      "84/84 [==============================] - 0s 2ms/step - loss: 4148.4975 - mse: 4148.4975\n",
      "Epoch 9/50\n",
      "84/84 [==============================] - 0s 2ms/step - loss: 3666.9223 - mse: 3666.9223\n",
      "Epoch 10/50\n",
      "84/84 [==============================] - 0s 2ms/step - loss: 3993.2885 - mse: 3993.2885\n",
      "Epoch 11/50\n",
      "84/84 [==============================] - 0s 2ms/step - loss: 4078.2169 - mse: 4078.2169\n",
      "Epoch 12/50\n",
      "84/84 [==============================] - 0s 2ms/step - loss: 5190.0054 - mse: 5190.0054\n",
      "Epoch 13/50\n",
      "84/84 [==============================] - 0s 2ms/step - loss: 3904.2266 - mse: 3904.2266\n",
      "Epoch 14/50\n",
      "84/84 [==============================] - 0s 2ms/step - loss: 4506.4978 - mse: 4506.4978\n",
      "Epoch 15/50\n",
      "84/84 [==============================] - 0s 2ms/step - loss: 3960.2105 - mse: 3960.2105\n",
      "Epoch 16/50\n",
      "84/84 [==============================] - 0s 1ms/step - loss: 4277.2043 - mse: 4277.2043\n",
      "Epoch 17/50\n",
      "84/84 [==============================] - 0s 2ms/step - loss: 4892.7664 - mse: 4892.7664\n",
      "Epoch 18/50\n",
      "84/84 [==============================] - 0s 2ms/step - loss: 4076.7873 - mse: 4076.7873\n",
      "Epoch 19/50\n",
      "84/84 [==============================] - 0s 2ms/step - loss: 4010.4470 - mse: 4010.4470\n",
      "Epoch 20/50\n",
      "84/84 [==============================] - 0s 2ms/step - loss: 5042.2286 - mse: 5042.2286\n",
      "Epoch 21/50\n",
      "84/84 [==============================] - 0s 2ms/step - loss: 4597.6114 - mse: 4597.6114\n",
      "Epoch 22/50\n",
      "84/84 [==============================] - 0s 2ms/step - loss: 4084.6913 - mse: 4084.6913\n",
      "Epoch 23/50\n",
      "84/84 [==============================] - 0s 2ms/step - loss: 3885.7974 - mse: 3885.7974\n",
      "Epoch 24/50\n",
      "84/84 [==============================] - 0s 2ms/step - loss: 4394.4233 - mse: 4394.4233\n",
      "Epoch 25/50\n",
      "84/84 [==============================] - 0s 2ms/step - loss: 3957.8255 - mse: 3957.8255\n",
      "Epoch 26/50\n",
      "84/84 [==============================] - 0s 2ms/step - loss: 4184.0929 - mse: 4184.0929\n",
      "Epoch 27/50\n",
      "84/84 [==============================] - 0s 1ms/step - loss: 4273.6173 - mse: 4273.6173\n",
      "Epoch 28/50\n",
      "84/84 [==============================] - 0s 2ms/step - loss: 3954.3838 - mse: 3954.3838\n",
      "Epoch 29/50\n",
      "84/84 [==============================] - 0s 2ms/step - loss: 3445.4476 - mse: 3445.4476\n",
      "Epoch 30/50\n",
      "84/84 [==============================] - 0s 2ms/step - loss: 4280.5345 - mse: 4280.5345\n",
      "Epoch 31/50\n",
      "84/84 [==============================] - 0s 2ms/step - loss: 4765.5427 - mse: 4765.5427\n",
      "Epoch 32/50\n",
      "84/84 [==============================] - 0s 2ms/step - loss: 4027.5566 - mse: 4027.5566\n",
      "Epoch 33/50\n",
      "84/84 [==============================] - 0s 2ms/step - loss: 4149.5642 - mse: 4149.5642\n",
      "Epoch 34/50\n",
      "84/84 [==============================] - 0s 2ms/step - loss: 3863.3664 - mse: 3863.3664\n",
      "Epoch 35/50\n",
      "84/84 [==============================] - 0s 2ms/step - loss: 4053.0393 - mse: 4053.0393\n",
      "Epoch 36/50\n",
      "84/84 [==============================] - 0s 2ms/step - loss: 4613.7473 - mse: 4613.7473\n",
      "Epoch 37/50\n",
      "84/84 [==============================] - 0s 2ms/step - loss: 4005.4652 - mse: 4005.4652\n",
      "Epoch 38/50\n",
      "84/84 [==============================] - 0s 2ms/step - loss: 3932.1260 - mse: 3932.1260\n",
      "Epoch 39/50\n",
      "84/84 [==============================] - 0s 2ms/step - loss: 4430.9203 - mse: 4430.9203\n",
      "Epoch 40/50\n",
      "84/84 [==============================] - 0s 2ms/step - loss: 4173.5948 - mse: 4173.5948\n",
      "Epoch 41/50\n",
      "84/84 [==============================] - 0s 2ms/step - loss: 3552.9484 - mse: 3552.9484\n",
      "Epoch 42/50\n",
      "84/84 [==============================] - 0s 2ms/step - loss: 3657.2994 - mse: 3657.2994\n",
      "Epoch 43/50\n",
      "84/84 [==============================] - 0s 1ms/step - loss: 4121.4703 - mse: 4121.4703\n",
      "Epoch 44/50\n",
      "84/84 [==============================] - 0s 1ms/step - loss: 4098.2119 - mse: 4098.2119\n",
      "Epoch 45/50\n",
      "84/84 [==============================] - 0s 2ms/step - loss: 4214.5130 - mse: 4214.5130\n",
      "Epoch 46/50\n",
      "84/84 [==============================] - 0s 2ms/step - loss: 3721.4132 - mse: 3721.4132\n",
      "Epoch 47/50\n",
      "84/84 [==============================] - 0s 2ms/step - loss: 4071.6286 - mse: 4071.6286\n",
      "Epoch 48/50\n",
      "84/84 [==============================] - 0s 2ms/step - loss: 4132.5698 - mse: 4132.5698\n",
      "Epoch 49/50\n",
      "84/84 [==============================] - 0s 2ms/step - loss: 3850.8944 - mse: 3850.8944\n",
      "Epoch 50/50\n",
      "84/84 [==============================] - 0s 2ms/step - loss: 4151.0834 - mse: 4151.0834\n",
      "Here are the predictions of the prices: \n",
      " [[319.8 ]\n",
      " [107.13]\n",
      " [ 88.84]\n",
      " ...\n",
      " [120.53]\n",
      " [140.54]\n",
      " [160.41]]\n",
      "63.87684506619003\n",
      "74.52980179600881\n"
     ]
    }
   ],
   "source": [
    "#compile the model using the mean squared error as a loss because we are making a regression model\n",
    "model.compile(optimizer='adam', loss='mse', metrics=['mse'])\n",
    "\n",
    "#store the trained model (model.fit) inside a history for callbacks in the future or references and further training to make it more accurate\n",
    "history = model.fit(X_train, y_train, epochs = 50)\n",
    "\n",
    "#get predictions from the trained and the test datasets\n",
    "preds_train = model.predict(X_train)\n",
    "preds = model.predict(X_test)\n",
    "\n",
    "#round these predictions sice they are the price of renting the specific airbnb location, and price cannot go deeper than cents (hence, round to 2 places)\n",
    "preds_round = np.round(preds,2)\n",
    "preds_train_round = np.round(preds_train,2)\n",
    "\n",
    "#Output the predictions made by the model\n",
    "print('Here are the predictions of the prices: \\n', preds_round)\n",
    "\n",
    "#The two lines of code below give the RMSE (root mean squared error) of the trained data and the predicted data. The closer the two values are means that the better the neural network/keras model is working.\n",
    "print(np.sqrt(mean_squared_error(y_train, preds_train_round)))\n",
    "print(np.sqrt(mean_squared_error(y_test, preds_round)))"
   ]
  },
  {
   "cell_type": "code",
   "execution_count": 22,
   "id": "053c94d6",
   "metadata": {
    "execution": {
     "iopub.execute_input": "2021-08-19T13:53:47.780911Z",
     "iopub.status.busy": "2021-08-19T13:53:47.780022Z",
     "iopub.status.idle": "2021-08-19T13:53:47.783623Z",
     "shell.execute_reply": "2021-08-19T13:53:47.784128Z",
     "shell.execute_reply.started": "2021-08-19T12:13:50.092482Z"
    },
    "papermill": {
     "duration": 0.112471,
     "end_time": "2021-08-19T13:53:47.784300",
     "exception": false,
     "start_time": "2021-08-19T13:53:47.671829",
     "status": "completed"
    },
    "scrolled": true,
    "tags": []
   },
   "outputs": [
    {
     "name": "stdout",
     "output_type": "stream",
     "text": [
      "This array contains the actual, price vs the predicted price based on the keras model.\n",
      " [[349.         319.79998779]\n",
      " [ 55.         107.12999725]\n",
      " [100.          88.83999634]\n",
      " ...\n",
      " [ 85.         120.52999878]\n",
      " [135.         140.53999329]\n",
      " [200.         160.41000366]]\n"
     ]
    }
   ],
   "source": [
    "#Assign the actual and predicted values of the price of the listings to a new dataframe, called 'price'. This can be output showing the difference between the actual and the predicted list of prices so that the user can gauge the accuracy of the neural network.\n",
    "price = np.concatenate([y_test, preds_round], axis=1)\n",
    "print ('This array contains the actual, price vs the predicted price based on the keras model.\\n', price)"
   ]
  },
  {
   "cell_type": "markdown",
   "id": "fdd8fe09",
   "metadata": {
    "papermill": {
     "duration": 0.106637,
     "end_time": "2021-08-19T13:53:47.993566",
     "exception": false,
     "start_time": "2021-08-19T13:53:47.886929",
     "status": "completed"
    },
    "tags": []
   },
   "source": [
    "-----------------------------------------------------------------------------------------------------------------------------------------------------"
   ]
  },
  {
   "cell_type": "markdown",
   "id": "4e554e6a",
   "metadata": {
    "papermill": {
     "duration": 0.100176,
     "end_time": "2021-08-19T13:53:48.196370",
     "exception": false,
     "start_time": "2021-08-19T13:53:48.096194",
     "status": "completed"
    },
    "tags": []
   },
   "source": [
    "# Charts"
   ]
  },
  {
   "cell_type": "markdown",
   "id": "fcf5733d",
   "metadata": {
    "papermill": {
     "duration": 0.10042,
     "end_time": "2021-08-19T13:53:48.406097",
     "exception": false,
     "start_time": "2021-08-19T13:53:48.305677",
     "status": "completed"
    },
    "tags": []
   },
   "source": [
    "Charts showing successful price prediction on test data, using the keras-based model."
   ]
  },
  {
   "cell_type": "markdown",
   "id": "8f12f950",
   "metadata": {
    "papermill": {
     "duration": 0.102338,
     "end_time": "2021-08-19T13:53:48.613028",
     "exception": false,
     "start_time": "2021-08-19T13:53:48.510690",
     "status": "completed"
    },
    "tags": []
   },
   "source": [
    "* Direct reference between actual values ('y_test') in orange, and predicted values ('preds_round') in blue. This plot clearly shows that the trend line of the 2 datasets is almost the same, which implies that the predictive model was successful and works correctly."
   ]
  },
  {
   "cell_type": "code",
   "execution_count": 23,
   "id": "62b2788b",
   "metadata": {
    "execution": {
     "iopub.execute_input": "2021-08-19T13:53:48.841789Z",
     "iopub.status.busy": "2021-08-19T13:53:48.841129Z",
     "iopub.status.idle": "2021-08-19T13:53:49.087613Z",
     "shell.execute_reply": "2021-08-19T13:53:49.087066Z",
     "shell.execute_reply.started": "2021-08-19T12:13:50.102479Z"
    },
    "papermill": {
     "duration": 0.370098,
     "end_time": "2021-08-19T13:53:49.087756",
     "exception": false,
     "start_time": "2021-08-19T13:53:48.717658",
     "status": "completed"
    },
    "tags": []
   },
   "outputs": [
    {
     "data": {
      "text/plain": [
       "[<matplotlib.lines.Line2D at 0x7f38dc8d3190>,\n",
       " <matplotlib.lines.Line2D at 0x7f38dc8e3f50>]"
      ]
     },
     "execution_count": 23,
     "metadata": {},
     "output_type": "execute_result"
    },
    {
     "data": {
      "image/png": "[encoded data removed]",
      "text/plain": [
       "<Figure size 720x720 with 1 Axes>"
      ]
     },
     "metadata": {
      "needs_background": "light"
     },
     "output_type": "display_data"
    }
   ],
   "source": [
    "plt.figure(figsize=(10,10))\n",
    "plt.plot(price, marker = '.', linestyle = '' )"
   ]
  },
  {
   "cell_type": "markdown",
   "id": "c28ccb5a",
   "metadata": {
    "papermill": {
     "duration": 0.106994,
     "end_time": "2021-08-19T13:53:49.300323",
     "exception": false,
     "start_time": "2021-08-19T13:53:49.193329",
     "status": "completed"
    },
    "tags": []
   },
   "source": [
    "* Difference between actual values and predicted values. The trend almost sits flat at 0, with a few variations here and there which can be further reduced by strengthening the keras deep learning model and further cleaning the raw data properly."
   ]
  },
  {
   "cell_type": "code",
   "execution_count": 24,
   "id": "302341a8",
   "metadata": {
    "execution": {
     "iopub.execute_input": "2021-08-19T13:53:49.521008Z",
     "iopub.status.busy": "2021-08-19T13:53:49.519995Z",
     "iopub.status.idle": "2021-08-19T13:53:49.763678Z",
     "shell.execute_reply": "2021-08-19T13:53:49.763112Z",
     "shell.execute_reply.started": "2021-08-19T12:13:50.347952Z"
    },
    "papermill": {
     "duration": 0.35571,
     "end_time": "2021-08-19T13:53:49.763832",
     "exception": false,
     "start_time": "2021-08-19T13:53:49.408122",
     "status": "completed"
    },
    "tags": []
   },
   "outputs": [
    {
     "data": {
      "text/plain": [
       "[<matplotlib.lines.Line2D at 0x7f38a9cb62d0>]"
      ]
     },
     "execution_count": 24,
     "metadata": {},
     "output_type": "execute_result"
    },
    {
     "data": {
      "image/png": "[encoded data removed]",
      "text/plain": [
       "<Figure size 720x720 with 1 Axes>"
      ]
     },
     "metadata": {
      "needs_background": "light"
     },
     "output_type": "display_data"
    }
   ],
   "source": [
    "plt.figure(figsize=(10,10))\n",
    "plt.plot(y_test - preds_round, marker='1', linestyle='')"
   ]
  }
 ],
 "metadata": {
  "kernelspec": {
   "display_name": "Python 3",
   "language": "python",
   "name": "python3"
  },
  "language_info": {
   "codemirror_mode": {
    "name": "ipython",
    "version": 3
   },
   "file_extension": ".py",
   "mimetype": "text/x-python",
   "name": "python",
   "nbconvert_exporter": "python",
   "pygments_lexer": "ipython3",
   "version": "3.7.10"
  },
  "papermill": {
   "default_parameters": {},
   "duration": 40.987284,
   "end_time": "2021-08-19T13:53:51.963720",
   "environment_variables": {},
   "exception": null,
   "input_path": "__notebook__.ipynb",
   "output_path": "__notebook__.ipynb",
   "parameters": {},
   "start_time": "2021-08-19T13:53:10.976436",
   "version": "2.3.3"
  }
 },
 "nbformat": 4,
 "nbformat_minor": 5
}
